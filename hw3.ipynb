{
  "nbformat": 4,
  "nbformat_minor": 0,
  "metadata": {
    "colab": {
      "name": "hw3.ipynb",
      "provenance": [],
      "collapsed_sections": [],
      "authorship_tag": "ABX9TyPNIr0t5bmUHakezgDaNztw",
      "include_colab_link": true
    },
    "kernelspec": {
      "name": "python3",
      "display_name": "Python 3"
    },
    "language_info": {
      "name": "python"
    }
  },
  "cells": [
    {
      "cell_type": "markdown",
      "metadata": {
        "id": "view-in-github",
        "colab_type": "text"
      },
      "source": [
        "<a href=\"https://colab.research.google.com/github/zomb1esh3ik/hw/blob/main/hw3.ipynb\" target=\"_parent\"><img src=\"https://colab.research.google.com/assets/colab-badge.svg\" alt=\"Open In Colab\"/></a>"
      ]
    },
    {
      "cell_type": "code",
      "metadata": {
        "colab": {
          "base_uri": "https://localhost:8080/"
        },
        "id": "iGO5xFr0_gfC",
        "outputId": "01ea6720-b7b8-48a0-cce2-aebe3e954c87"
      },
      "source": [
        "%matplotlib inline\n",
        "\n",
        "from sklearn.datasets import load_iris\n",
        "import matplotlib.pyplot as plt\n",
        "from mpl_toolkits.mplot3d import Axes3D\n",
        "from sklearn import datasets\n",
        "from sklearn.decomposition import PCA\n",
        "import math\n",
        "from sklearn.model_selection import KFold\n",
        "from sklearn.model_selection import cross_val_score\n",
        "from sklearn.neighbors import KNeighborsClassifier\n",
        "from sklearn.svm import SVC\n",
        "from sklearn.naive_bayes import GaussianNB\n",
        "knn=KNeighborsClassifier()\n",
        "iris = datasets.load_iris()\n",
        "X = iris.data \n",
        "y = iris.target\n",
        "x_min, x_max = X[:, 0].min() - .5, X[:, 0].max() + .5\n",
        "y_min, y_max = X[:, 1].min() - .5, X[:, 1].max() + .5\n",
        "\n",
        "for k in range(1, 32, 1):\n",
        "    knn = KNeighborsClassifier(n_neighbors=k)  \n",
        "    scores = cross_val_score(knn, X, y, cv=10)\n",
        "    print(f'k={k:<2}; mean accuracy={scores.mean():.2%};' +\n",
        "        f'standard deviation={scores.std():.2%}')\n",
        "\n"
      ],
      "execution_count": 92,
      "outputs": [
        {
          "output_type": "stream",
          "name": "stdout",
          "text": [
            "k=1 ; mean accuracy=96.00%;standard deviation=5.33%\n",
            "k=2 ; mean accuracy=95.33%;standard deviation=5.21%\n",
            "k=3 ; mean accuracy=96.67%;standard deviation=4.47%\n",
            "k=4 ; mean accuracy=96.67%;standard deviation=4.47%\n",
            "k=5 ; mean accuracy=96.67%;standard deviation=4.47%\n",
            "k=6 ; mean accuracy=96.67%;standard deviation=4.47%\n",
            "k=7 ; mean accuracy=96.67%;standard deviation=4.47%\n",
            "k=8 ; mean accuracy=96.67%;standard deviation=4.47%\n",
            "k=9 ; mean accuracy=97.33%;standard deviation=3.27%\n",
            "k=10; mean accuracy=96.67%;standard deviation=4.47%\n",
            "k=11; mean accuracy=96.67%;standard deviation=4.47%\n",
            "k=12; mean accuracy=97.33%;standard deviation=3.27%\n",
            "k=13; mean accuracy=98.00%;standard deviation=3.06%\n",
            "k=14; mean accuracy=97.33%;standard deviation=4.42%\n",
            "k=15; mean accuracy=97.33%;standard deviation=3.27%\n",
            "k=16; mean accuracy=97.33%;standard deviation=3.27%\n",
            "k=17; mean accuracy=97.33%;standard deviation=3.27%\n",
            "k=18; mean accuracy=98.00%;standard deviation=3.06%\n",
            "k=19; mean accuracy=97.33%;standard deviation=3.27%\n",
            "k=20; mean accuracy=98.00%;standard deviation=3.06%\n",
            "k=21; mean accuracy=96.67%;standard deviation=3.33%\n",
            "k=22; mean accuracy=96.67%;standard deviation=3.33%\n",
            "k=23; mean accuracy=97.33%;standard deviation=3.27%\n",
            "k=24; mean accuracy=96.00%;standard deviation=4.42%\n",
            "k=25; mean accuracy=96.67%;standard deviation=3.33%\n",
            "k=26; mean accuracy=96.00%;standard deviation=4.42%\n",
            "k=27; mean accuracy=96.67%;standard deviation=4.47%\n",
            "k=28; mean accuracy=95.33%;standard deviation=4.27%\n",
            "k=29; mean accuracy=95.33%;standard deviation=4.27%\n",
            "k=30; mean accuracy=95.33%;standard deviation=4.27%\n",
            "k=31; mean accuracy=94.67%;standard deviation=4.99%\n"
          ]
        }
      ]
    },
    {
      "cell_type": "code",
      "metadata": {
        "id": "-xJnSctNAgC4"
      },
      "source": [
        ""
      ],
      "execution_count": 15,
      "outputs": []
    }
  ]
}